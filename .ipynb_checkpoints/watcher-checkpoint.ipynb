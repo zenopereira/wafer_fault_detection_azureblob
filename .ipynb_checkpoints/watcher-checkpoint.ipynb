{
 "cells": [
  {
   "cell_type": "code",
   "execution_count": 1,
   "metadata": {},
   "outputs": [
    {
     "ename": "ModuleNotFoundError",
     "evalue": "No module named 'dill'",
     "output_type": "error",
     "traceback": [
      "\u001b[1;31m---------------------------------------------------------------------------\u001b[0m",
      "\u001b[1;31mModuleNotFoundError\u001b[0m                       Traceback (most recent call last)",
      "\u001b[1;32m<ipython-input-1-1b8107b0cdd7>\u001b[0m in \u001b[0;36m<module>\u001b[1;34m\u001b[0m\n\u001b[0;32m      5\u001b[0m \u001b[1;32mfrom\u001b[0m \u001b[0mazure\u001b[0m\u001b[1;33m.\u001b[0m\u001b[0meventhub\u001b[0m\u001b[1;33m.\u001b[0m\u001b[0maio\u001b[0m \u001b[1;32mimport\u001b[0m \u001b[0mEventHubConsumerClient\u001b[0m\u001b[1;33m\u001b[0m\u001b[1;33m\u001b[0m\u001b[0m\n\u001b[0;32m      6\u001b[0m \u001b[1;32mfrom\u001b[0m \u001b[0mazure\u001b[0m\u001b[1;33m.\u001b[0m\u001b[0meventhub\u001b[0m\u001b[1;33m.\u001b[0m\u001b[0mextensions\u001b[0m\u001b[1;33m.\u001b[0m\u001b[0mcheckpointstoreblobaio\u001b[0m \u001b[1;32mimport\u001b[0m \u001b[0mBlobCheckpointStore\u001b[0m\u001b[1;33m\u001b[0m\u001b[1;33m\u001b[0m\u001b[0m\n\u001b[1;32m----> 7\u001b[1;33m \u001b[1;32mfrom\u001b[0m \u001b[0mAzureBlobStorage\u001b[0m\u001b[1;33m.\u001b[0m\u001b[0mAzureBlobStorageManagement\u001b[0m \u001b[1;32mimport\u001b[0m \u001b[0mAzureBlobManagement\u001b[0m\u001b[1;33m\u001b[0m\u001b[1;33m\u001b[0m\u001b[0m\n\u001b[0m\u001b[0;32m      8\u001b[0m \u001b[1;32mimport\u001b[0m \u001b[0mpandas\u001b[0m\u001b[1;33m\u001b[0m\u001b[1;33m\u001b[0m\u001b[0m\n\u001b[0;32m      9\u001b[0m \u001b[1;32mimport\u001b[0m \u001b[0mtesting\u001b[0m\u001b[1;33m\u001b[0m\u001b[1;33m\u001b[0m\u001b[0m\n",
      "\u001b[1;32m~\\Downloads\\waferFaultDetection (2)\\waferFaultDetection\\code\\WaferFaultDetection_new\\AzureBlobStorage\\AzureBlobStorageManagement.py\u001b[0m in \u001b[0;36m<module>\u001b[1;34m\u001b[0m\n\u001b[0;32m      1\u001b[0m \u001b[1;32mimport\u001b[0m \u001b[0mos\u001b[0m\u001b[1;33m,\u001b[0m \u001b[0muuid\u001b[0m\u001b[1;33m\u001b[0m\u001b[1;33m\u001b[0m\u001b[0m\n\u001b[1;32m----> 2\u001b[1;33m \u001b[1;32mimport\u001b[0m \u001b[0mdill\u001b[0m\u001b[1;33m\u001b[0m\u001b[1;33m\u001b[0m\u001b[0m\n\u001b[0m\u001b[0;32m      3\u001b[0m \u001b[1;32mfrom\u001b[0m \u001b[0mazure\u001b[0m\u001b[1;33m.\u001b[0m\u001b[0mstorage\u001b[0m\u001b[1;33m.\u001b[0m\u001b[0mblob\u001b[0m \u001b[1;32mimport\u001b[0m \u001b[0mBlobServiceClient\u001b[0m\u001b[1;33m,\u001b[0m \u001b[0mBlobClient\u001b[0m\u001b[1;33m,\u001b[0m \u001b[0mContainerClient\u001b[0m\u001b[1;33m,\u001b[0m \u001b[0m__version__\u001b[0m\u001b[1;33m\u001b[0m\u001b[1;33m\u001b[0m\u001b[0m\n\u001b[0;32m      4\u001b[0m \u001b[1;32mimport\u001b[0m \u001b[0mpandas\u001b[0m \u001b[1;32mas\u001b[0m \u001b[0mpd\u001b[0m\u001b[1;33m\u001b[0m\u001b[1;33m\u001b[0m\u001b[0m\n\u001b[0;32m      5\u001b[0m \u001b[1;32mfrom\u001b[0m \u001b[0mio\u001b[0m \u001b[1;32mimport\u001b[0m \u001b[0mStringIO\u001b[0m\u001b[1;33m\u001b[0m\u001b[1;33m\u001b[0m\u001b[0m\n",
      "\u001b[1;31mModuleNotFoundError\u001b[0m: No module named 'dill'"
     ]
    }
   ],
   "source": [
    "import asyncio\n",
    "import json\n",
    "import re\n",
    "import nest_asyncio\n",
    "from azure.eventhub.aio import EventHubConsumerClient\n",
    "from azure.eventhub.extensions.checkpointstoreblobaio import BlobCheckpointStore\n",
    "from AzureBlobStorage.AzureBlobStorageManagement import AzureBlobManagement\n",
    "import pandas\n",
    "import testing\n",
    "connection_string=\"DefaultEndpointsProtocol=https;AccountName=predictionlocation;AccountKey=V9VbOgYmDmbYH5ACyNy5vIACtfPXX4P5D4u+nkUnjWpOO32SP4wwRcsfRUefq3Rv94PmSTOZugT7ahtzyyV9Pw==;EndpointSuffix=core.windows.net\"\n",
    "\n",
    "def getEventAndSubject(data):\n",
    "    event_type = None\n",
    "    container = None\n",
    "    if 'eventType' in data.keys():\n",
    "        event_type = data['eventType']\n",
    "    if 'subject' in data.keys():\n",
    "        start_index = data['subject'].index('containers') + len('containers') + 1\n",
    "        stop_index = data['subject'].index('/blobs/', start_index, )\n",
    "        container = data['subject'][start_index:stop_index]\n",
    "    if event_type=='Microsoft.Storage.BlobCreated':\n",
    "        azm=AzureBlobManagement(connection_string)\n",
    "        azm_processing_dir=AzureBlobManagement()\n",
    "        file_names=azm.getAllFileNameFromDirectory(directory_name=container)\n",
    "        for file in file_names:\n",
    "            df=azm.readCsvFileFromDirectory(container,file)\n",
    "            azm_processing_dir.saveDataFrameTocsv(\"received-prediction\",file,df)\n",
    "        testing.predictionTest(\"received-prediction\")\n",
    "        print(event_type, container)\n",
    "\n",
    "\n",
    "def updateSingleQuote(text):\n",
    "    p = re.compile('(?<!\\\\\\\\)\\'')\n",
    "    text = p.sub('\\\"', text)\n",
    "    return text\n",
    "\n",
    "def messgae(data):\n",
    "    data = list(json.loads(updateSingleQuote(data)))\n",
    "    print(\"--------------------------------------\")\n",
    "    if len(data) > 0:\n",
    "        getEventAndSubject(data[0])\n",
    "\n",
    "\n",
    "async def on_event(partition_context, event):\n",
    "    # Print the event data.\n",
    "    event_data = event.body_as_str(encoding='UTF-8')\n",
    "    print(\"Received the event: \\\"{}\\\" from the partition with ID: \\\"{}\\\"\".format(event_data,\n",
    "                                                                                 partition_context.partition_id))\n",
    "    # Update the checkpoint so that the program doesn't read the events\n",
    "    # that it has already read when you run it next time.\n",
    "    messgae(event_data)\n",
    "    await partition_context.update_checkpoint(event)\n",
    "\n",
    "\n",
    "async def main():\n",
    "    connection_str = \"Endpoint=sb://avnish327030.servicebus.windows.net/;SharedAccessKeyName=RootManageSharedAccessKey;SharedAccessKey=BwK0zozJe+Oz46F5BgpHUtq5zkzqMKCzPdc2kOg2WW8=\"\n",
    "    event_hubname = \"waferpredictionevent\"\n",
    "\n",
    "    # Create an Azure blob checkpoint store to store the checkpoints.\n",
    "    checkpoint_store = BlobCheckpointStore.from_connection_string(\n",
    "        \"DefaultEndpointsProtocol=https;AccountName=predictionlocation;AccountKey=V9VbOgYmDmbYH5ACyNy5vIACtfPXX4P5D4u+nkUnjWpOO32SP4wwRcsfRUefq3Rv94PmSTOZugT7ahtzyyV9Pw==;EndpointSuffix=core.windows.net\",\n",
    "        \"avnish\")\n",
    "\n",
    "    # Create a consumer client for the event hub.\n",
    "    client = EventHubConsumerClient.from_connection_string(connection_str, consumer_group=\"$Default\",\n",
    "                                                           eventhub_name=event_hubname,\n",
    "                                                           checkpoint_store=checkpoint_store)\n",
    "    async with client:\n",
    "        # Call the receive method. Read from the beginning of the partition (starting_position: \"-1\")\n",
    "        await client.receive(on_event=on_event, starting_position=\"-1\")\n",
    "\n",
    "\n",
    "if __name__ == '__main__':\n",
    "    nest_asyncio.apply()\n",
    "    loop = asyncio.get_event_loop()\n",
    "    loop.run_until_complete(main())\n",
    "\n",
    "\n"
   ]
  },
  {
   "cell_type": "code",
   "execution_count": 2,
   "metadata": {},
   "outputs": [
    {
     "name": "stdout",
     "output_type": "stream",
     "text": [
      "Collecting dill\n",
      "  Using cached dill-0.3.3-py2.py3-none-any.whl (81 kB)\n",
      "Installing collected packages: dill\n",
      "Successfully installed dill-0.3.3\n",
      "Note: you may need to restart the kernel to use updated packages.\n"
     ]
    }
   ],
   "source": [
    "pip install dill"
   ]
  },
  {
   "cell_type": "code",
   "execution_count": null,
   "metadata": {},
   "outputs": [],
   "source": []
  }
 ],
 "metadata": {
  "kernelspec": {
   "display_name": "Python 3",
   "language": "python",
   "name": "python3"
  },
  "language_info": {
   "codemirror_mode": {
    "name": "ipython",
    "version": 3
   },
   "file_extension": ".py",
   "mimetype": "text/x-python",
   "name": "python",
   "nbconvert_exporter": "python",
   "pygments_lexer": "ipython3",
   "version": "3.8.3"
  }
 },
 "nbformat": 4,
 "nbformat_minor": 4
}
